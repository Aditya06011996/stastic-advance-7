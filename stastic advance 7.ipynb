{
 "cells": [
  {
   "cell_type": "markdown",
   "id": "020ff919-b61f-4651-b2bb-30153bfd3699",
   "metadata": {},
   "source": [
    "Q1. Write a Python function that takes in two arrays of data and calculates the F-value for a variance ratio\n",
    "test. The function should return the F-value and the corresponding p-value for the test."
   ]
  },
  {
   "cell_type": "markdown",
   "id": "aa0be5a1-41b9-40e2-9feb-4cbee79657cc",
   "metadata": {},
   "source": [
    "Ans - To calculate the F-value and corresponding p-value for a variance ratio test (also known as an F-test), you can use the \"scipy.stats\" library in Python. Here's a Python function that takes in two arrays of data and performs the F-test:"
   ]
  },
  {
   "cell_type": "code",
   "execution_count": 1,
   "id": "500c2a4e-9d3e-46aa-a010-f37534b2fba9",
   "metadata": {},
   "outputs": [
    {
     "name": "stdout",
     "output_type": "stream",
     "text": [
      "F-value: 0.390625\n",
      "p-value: 0.8076156540216661\n"
     ]
    }
   ],
   "source": [
    "import numpy as np\n",
    "from scipy import stats\n",
    "\n",
    "def calculate_f_value(data1, data2):\n",
    "    \"\"\"\n",
    "    Calculate the F-value and p-value for a variance ratio test (F-test).\n",
    "\n",
    "    Parameters:\n",
    "    data1 (array-like): The first array of data.\n",
    "    data2 (array-like): The second array of data.\n",
    "\n",
    "    Returns:\n",
    "    f_value (float): The calculated F-value.\n",
    "    p_value (float): The corresponding p-value for the test.\n",
    "    \"\"\"\n",
    "\n",
    "    # Convert the input data to numpy arrays\n",
    "    data1 = np.array(data1)\n",
    "    data2 = np.array(data2)\n",
    "\n",
    "    # Calculate the variances of both data sets\n",
    "    var1 = np.var(data1, ddof=1)  # ddof=1 for unbiased estimate\n",
    "    var2 = np.var(data2, ddof=1)\n",
    "\n",
    "    # Calculate the F-value\n",
    "    f_value = var1 / var2\n",
    "\n",
    "    # Calculate the degrees of freedom for both data sets\n",
    "    df1 = len(data1) - 1\n",
    "    df2 = len(data2) - 1\n",
    "\n",
    "    # Calculate the p-value\n",
    "    p_value = 1 - stats.f.cdf(f_value, df1, df2)\n",
    "\n",
    "    return f_value, p_value\n",
    "\n",
    "# Example usage:\n",
    "data1 = [15, 20, 25, 30, 35]\n",
    "data2 = [10, 18, 26, 34, 42]\n",
    "f_value, p_value = calculate_f_value(data1, data2)\n",
    "print(\"F-value:\", f_value)\n",
    "print(\"p-value:\", p_value)\n"
   ]
  },
  {
   "cell_type": "markdown",
   "id": "e4f8e511-fc40-4573-898f-031f31287535",
   "metadata": {},
   "source": [
    "In this code, we first calculate the variances of the two input data arrays and then use those variances to calculate the F-value. We also calculate the degrees of freedom for both data sets and use the \"stats.f.cdf\" function from SciPy to find the p-value. The function returns both the F-value and the p-value for the test."
   ]
  },
  {
   "cell_type": "markdown",
   "id": "13f4431a-44cb-4e69-b68e-b038e30c0164",
   "metadata": {},
   "source": [
    "Q2. Given a significance level of 0.05 and the degrees of freedom for the numerator and denominator of an\n",
    "F-distribution, write a Python function that returns the critical F-value for a two-tailed test."
   ]
  },
  {
   "cell_type": "markdown",
   "id": "4e5fdf7b-7a39-4980-badd-e9a56f17ebf4",
   "metadata": {},
   "source": [
    "Ans - To calculate the critical F-value for a two-tailed test with a given significance level (alpha), degrees of freedom for the numerator (df1), and degrees of freedom for the denominator (df2), you can use the \"scipy.stats\" library in Python. Here's a Python function to do that:"
   ]
  },
  {
   "cell_type": "code",
   "execution_count": 2,
   "id": "67960be2-db9e-41ba-a455-fe9e183471b0",
   "metadata": {},
   "outputs": [
    {
     "name": "stdout",
     "output_type": "stream",
     "text": [
      "Critical F-value (Lower): 0.06935321586551411\n",
      "Critical F-value (Upper): 4.825621493405406\n"
     ]
    }
   ],
   "source": [
    "from scipy import stats\n",
    "\n",
    "def get_critical_f_value(alpha, df1, df2):\n",
    "    \"\"\"\n",
    "    Calculate the critical F-value for a two-tailed test with a given significance level.\n",
    "\n",
    "    Parameters:\n",
    "    alpha (float): The significance level (e.g., 0.05 for a 5% significance level).\n",
    "    df1 (int): Degrees of freedom for the numerator.\n",
    "    df2 (int): Degrees of freedom for the denominator.\n",
    "\n",
    "    Returns:\n",
    "    critical_f_value (float): The critical F-value for the two-tailed test.\n",
    "    \"\"\"\n",
    "\n",
    "    # Calculate the upper and lower critical values for a two-tailed test\n",
    "    alpha_upper = 1 - alpha / 2\n",
    "    alpha_lower = alpha / 2\n",
    "\n",
    "    # Use the percent point function (PPF) to get the critical values\n",
    "    critical_f_upper = stats.f.ppf(alpha_upper, df1, df2)\n",
    "    critical_f_lower = stats.f.ppf(alpha_lower, df1, df2)\n",
    "\n",
    "    return critical_f_lower, critical_f_upper\n",
    "\n",
    "# Example usage:\n",
    "alpha = 0.05\n",
    "df1 = 3\n",
    "df2 = 10\n",
    "critical_f_lower, critical_f_upper = get_critical_f_value(alpha, df1, df2)\n",
    "print(\"Critical F-value (Lower):\", critical_f_lower)\n",
    "print(\"Critical F-value (Upper):\", critical_f_upper)\n"
   ]
  },
  {
   "cell_type": "markdown",
   "id": "ca9585c1-097d-4c81-90a7-23436f9fb63c",
   "metadata": {},
   "source": [
    "In this code, we calculate the upper and lower critical values for the two-tailed test using the given significance level (alpha), degrees of freedom for the numerator (df1), and degrees of freedom for the denominator (df2). We use the \"stats.f.ppf\" function to calculate these critical values and return both the lower and upper critical F-values for the two-tailed test."
   ]
  },
  {
   "cell_type": "markdown",
   "id": "ed390213-a243-40ac-b868-173e4a21558b",
   "metadata": {},
   "source": [
    "Q3. Write a Python program that generates random samples from two normal distributions with known variances and uses an F-test to determine if the variances are equal. The program should output the F-value, degrees of freedom, and p-value for the test."
   ]
  },
  {
   "cell_type": "markdown",
   "id": "d915b75d-cd37-44a2-94cc-d4b64e54a2d6",
   "metadata": {},
   "source": [
    "Ans - To generate random samples from two normal distributions with known variances and perform an F-test to determine if the variances are equal, you can use the \"numpy\" and \"scipy.stats\" libraries in Python. Here's a Python program that does that:"
   ]
  },
  {
   "cell_type": "code",
   "execution_count": 3,
   "id": "dd182902-1156-47b3-b80d-7e9d1374feb0",
   "metadata": {},
   "outputs": [
    {
     "name": "stdout",
     "output_type": "stream",
     "text": [
      "F-value: 0.6666666666666666\n",
      "Degrees of freedom (numerator): 99\n",
      "Degrees of freedom (denominator): 99\n",
      "p-value: 0.9775326373936848\n",
      "Are variances equal? True\n"
     ]
    }
   ],
   "source": [
    "import numpy as np\n",
    "from scipy import stats\n",
    "\n",
    "def perform_f_test(sample1, sample2, var1, var2, alpha=0.05):\n",
    "    \"\"\"\n",
    "    Perform an F-test to determine if the variances of two samples are equal.\n",
    "\n",
    "    Parameters:\n",
    "    sample1 (array-like): Random sample from the first distribution.\n",
    "    sample2 (array-like): Random sample from the second distribution.\n",
    "    var1 (float): Known variance of the first distribution.\n",
    "    var2 (float): Known variance of the second distribution.\n",
    "    alpha (float): Significance level (default is 0.05).\n",
    "\n",
    "    Returns:\n",
    "    f_value (float): The calculated F-value.\n",
    "    df1 (int): Degrees of freedom for the numerator.\n",
    "    df2 (int): Degrees of freedom for the denominator.\n",
    "    p_value (float): The p-value for the F-test.\n",
    "    is_equal_variance (bool): True if variances are equal; False otherwise.\n",
    "    \"\"\"\n",
    "\n",
    "    # Calculate the F-value\n",
    "    f_value = var1 / var2\n",
    "\n",
    "    # Calculate the degrees of freedom for the samples\n",
    "    df1 = len(sample1) - 1\n",
    "    df2 = len(sample2) - 1\n",
    "\n",
    "    # Calculate the p-value for the F-test\n",
    "    p_value = 1 - stats.f.cdf(f_value, df1, df2)\n",
    "\n",
    "    # Compare the p-value to the significance level\n",
    "    is_equal_variance = p_value > alpha\n",
    "\n",
    "    return f_value, df1, df2, p_value, is_equal_variance\n",
    "\n",
    "# Generate random samples from two normal distributions\n",
    "np.random.seed(42)  # Set a seed for reproducibility\n",
    "sample1 = np.random.normal(0, 1, 100)  # Mean=0, Var=1\n",
    "sample2 = np.random.normal(0, 1.5, 100)  # Mean=0, Var=1.5\n",
    "\n",
    "# Known variances\n",
    "var1 = 1\n",
    "var2 = 1.5\n",
    "\n",
    "# Perform the F-test\n",
    "f_value, df1, df2, p_value, is_equal_variance = perform_f_test(sample1, sample2, var1, var2)\n",
    "\n",
    "# Output the results\n",
    "print(\"F-value:\", f_value)\n",
    "print(\"Degrees of freedom (numerator):\", df1)\n",
    "print(\"Degrees of freedom (denominator):\", df2)\n",
    "print(\"p-value:\", p_value)\n",
    "print(\"Are variances equal?\", is_equal_variance)\n"
   ]
  },
  {
   "cell_type": "markdown",
   "id": "4395ac5f-c548-4bed-bce2-351a5273ed1e",
   "metadata": {},
   "source": [
    "In this program, we first generate random samples from two normal distributions with known variances (var1 and var2). We then perform the F-test to determine if the variances are equal and output the F-value, degrees of freedom, p-value, and whether the variances are equal or not."
   ]
  },
  {
   "cell_type": "markdown",
   "id": "461c3278-de26-4ec4-b42f-54e7303ccfdd",
   "metadata": {},
   "source": [
    "Q4.The variances of two populations are known to be 10 and 15. A sample of 12 observations is taken from each population. Conduct an F-test at the 5% significance level to determine if the variances are significantly different."
   ]
  },
  {
   "cell_type": "markdown",
   "id": "f336b11a-d15d-48ed-ae6e-300015c8dc87",
   "metadata": {},
   "source": [
    "Ans - To conduct an F-test to determine if the variances of two populations are significantly different at the 5% significance level, you can follow these steps:\n",
    "\n",
    "1. Define the null hypothesis (H0) and the alternative hypothesis (H1):\n",
    "\n",
    "   - Null Hypothesis (H0): The variances of the two populations are equal.\n",
    "   - Alternative Hypothesis (H1): The variances of the two populations are significantly different.\n",
    "\n",
    "2. Choose a significance level (alpha) for the test. In this case, alpha is 0.05.\n",
    "\n",
    "3. Calculate the F-statistic using the formula:\n",
    "\n",
    "   F = (variance of Population 1) / (variance of Population 2)\n",
    "\n",
    "4. Determine the degrees of freedom for both populations. For a two-sample F-test, the degrees of freedom for the numerator (Population 1) is 11, and the degrees of freedom for the denominator (Population 2) is 11.\n",
    "\n",
    "5. Use the F-distribution table or a statistical calculator to find the critical F-value for a two-tailed test at the 5% significance level with degrees of freedom (df1 = 11, df2 = 11).\n",
    "\n",
    "6. Compare the calculated F-statistic to the critical F-value:\n",
    "\n",
    "   - If F-statistic > Critical F-value, reject the null hypothesis (H0) in favor of the alternative hypothesis (H1), indicating that the variances are significantly different.\n",
    "   - If F-statistic <= Critical F-value, fail to reject the null hypothesis (H0), indicating that there is no significant difference in variances.\n",
    "   \n",
    "   Here's a Python code snippet to perform the F-test:\n"
   ]
  },
  {
   "cell_type": "code",
   "execution_count": 5,
   "id": "abbe72d5-45fe-41e6-aa66-185c2619acdc",
   "metadata": {},
   "outputs": [
    {
     "name": "stdout",
     "output_type": "stream",
     "text": [
      "Fail to reject the null hypothesis: There is no significant difference in variances.\n"
     ]
    }
   ],
   "source": [
    "from scipy import stats\n",
    "\n",
    "# Known variances\n",
    "variance_pop1 = 10\n",
    "variance_pop2 = 15\n",
    "\n",
    "# Sample sizes\n",
    "n1 = 12\n",
    "n2 = 12\n",
    "\n",
    "# Calculate the F-statistic\n",
    "f_statistic = variance_pop1 / variance_pop2\n",
    "\n",
    "# Degrees of freedom\n",
    "df1 = n1 - 1\n",
    "df2 = n2 - 1\n",
    "\n",
    "# Significance level\n",
    "alpha = 0.05\n",
    "\n",
    "# Calculate the critical F-value for a two-tailed test at alpha/2\n",
    "critical_f_value_lower = stats.f.ppf(alpha / 2, df1, df2)\n",
    "critical_f_value_upper = stats.f.ppf(1 - alpha / 2, df1, df2)\n",
    "\n",
    "# Compare the F-statistic to the critical values\n",
    "if f_statistic < critical_f_value_lower or f_statistic > critical_f_value_upper:\n",
    "    print(\"Reject the null hypothesis: The variances are significantly different.\")\n",
    "else:\n",
    "    print(\"Fail to reject the null hypothesis: There is no significant difference in variances.\")\n"
   ]
  },
  {
   "cell_type": "markdown",
   "id": "37372e20-588d-43de-9b05-cf9aa356ff84",
   "metadata": {},
   "source": [
    "This code calculates the F-statistic, finds the critical F-values, and compares them to make a decision regarding the null hypothesis. In this specific case, the output would indicate whether the variances are significantly different or not at the 5% significance level."
   ]
  },
  {
   "cell_type": "markdown",
   "id": "7241dc94-d1a2-4c24-9bac-01d4fe7d2d8a",
   "metadata": {},
   "source": [
    "Q5. A manufacturer claims that the variance of the diameter of a certain product is 0.005. A sample of 25\n",
    "products is taken, and the sample variance is found to be 0.006. Conduct an F-test at the 1% significance\n",
    "level to determine if the claim is justified."
   ]
  },
  {
   "cell_type": "markdown",
   "id": "159edfa3-d1ca-46a4-9249-47ec8ac3ec11",
   "metadata": {},
   "source": [
    "Ans - To conduct an F-test to determine if the manufacturer's claim about the variance of the product's diameter is justified at the 1% significance level, you can follow these steps:\n",
    "\n",
    "1. Define the null hypothesis (H0) and the alternative hypothesis (H1):\n",
    "\n",
    "   - Null Hypothesis (H0): The manufacturer's claim is justified, and the population variance is 0.005.\n",
    "   - Alternative Hypothesis (H1): The manufacturer's claim is not justified, and the population variance is different from 0.005.\n",
    "\n",
    "2. Choose a significance level (alpha) for the test. In this case, alpha is 0.01 (1%).\n",
    "\n",
    "3. Calculate the F-statistic using the formula:\n",
    "\n",
    "   F = (Sample Variance) / (Claimed Population Variance)\n",
    "\n",
    "4. Determine the degrees of freedom for both the numerator (Sample Variance) and the denominator (Claimed Population Variance). For a one-sample F-test, the degrees of freedom for the numerator is 24 (sample size - 1), and the degrees of freedom for the denominator is 24.\n",
    "\n",
    "5. Use the F-distribution table or a statistical calculator to find the critical F-values for a two-tailed test at the 1% significance level with degrees of freedom (df1 = 24, df2 = 24).\n",
    "\n",
    "6. Compare the calculated F-statistic to the critical F-values:\n",
    "\n",
    "   - If F-statistic is outside the range of critical F-values, reject the null hypothesis (H0) in favor of the alternative hypothesis (H1), indicating that the manufacturer's claim is not justified.\n",
    "   - If F-statistic is within the range of critical F-values, fail to reject the null hypothesis (H0), indicating that the manufacturer's claim is justified.\n",
    "\n",
    "Here's a Python code snippet to perform the F-test:\n"
   ]
  },
  {
   "cell_type": "code",
   "execution_count": 6,
   "id": "bf786458-91fd-4004-8100-c0cf6ef0895b",
   "metadata": {},
   "outputs": [
    {
     "name": "stdout",
     "output_type": "stream",
     "text": [
      "Fail to reject the null hypothesis: The manufacturer's claim is justified.\n"
     ]
    }
   ],
   "source": [
    "from scipy import stats\n",
    "\n",
    "# Claimed population variance\n",
    "claimed_variance = 0.005\n",
    "\n",
    "# Sample variance\n",
    "sample_variance = 0.006\n",
    "\n",
    "# Sample size\n",
    "n = 25\n",
    "\n",
    "# Calculate the F-statistic\n",
    "f_statistic = sample_variance / claimed_variance\n",
    "\n",
    "# Degrees of freedom\n",
    "df1 = n - 1\n",
    "df2 = n - 1\n",
    "\n",
    "# Significance level\n",
    "alpha = 0.01\n",
    "\n",
    "# Calculate the critical F-values for a two-tailed test at alpha/2\n",
    "critical_f_value_lower = stats.f.ppf(alpha / 2, df1, df2)\n",
    "critical_f_value_upper = stats.f.ppf(1 - alpha / 2, df1, df2)\n",
    "\n",
    "# Compare the F-statistic to the critical values\n",
    "if f_statistic < critical_f_value_lower or f_statistic > critical_f_value_upper:\n",
    "    print(\"Reject the null hypothesis: The manufacturer's claim is not justified.\")\n",
    "else:\n",
    "    print(\"Fail to reject the null hypothesis: The manufacturer's claim is justified.\")\n"
   ]
  },
  {
   "cell_type": "markdown",
   "id": "5aa67267-b6c3-479e-9045-86d149ca9e71",
   "metadata": {},
   "source": [
    "This code calculates the F-statistic, finds the critical F-values, and makes a decision regarding the null hypothesis. In this specific case, the output will indicate whether the manufacturer's claim about the variance is justified at the 1% significance level."
   ]
  },
  {
   "cell_type": "markdown",
   "id": "50eaedd7-8b09-4e73-87ec-26aa8337aab8",
   "metadata": {},
   "source": [
    "Q6. Write a Python function that takes in the degrees of freedom for the numerator and denominator of an\n",
    "F-distribution and calculates the mean and variance of the distribution. The function should return the\n",
    "mean and variance as a tuple."
   ]
  },
  {
   "cell_type": "markdown",
   "id": "9f79f817-bcc5-44c1-8ac8-9558dfdb9e28",
   "metadata": {},
   "source": [
    "Ans - You can calculate the mean and variance of an F-distribution using the following formulas:\n",
    "\n",
    "The mean (μ) of an F-distribution with degrees of freedom df1 and df2 is given by:\n",
    "\n",
    "μ = df2 / (df2 - 2)\n",
    "\n",
    "The variance (σ^2) of an F-distribution with degrees of freedom df1 and df2 is given by:\n",
    "\n",
    "σ^2 = [2 * df2^2 * (df1 + df2 - 2)] / [df1 * (df2 - 2)^2 * (df2 - 4)]\n",
    "\n",
    "Here's a Python function that calculates the mean and variance of an F-distribution:"
   ]
  },
  {
   "cell_type": "code",
   "execution_count": 7,
   "id": "daf21198-c332-411b-9580-36f003a859f2",
   "metadata": {},
   "outputs": [
    {
     "name": "stdout",
     "output_type": "stream",
     "text": [
      "Mean of F-distribution: 1.25\n",
      "Variance of F-distribution: 1.3541666666666667\n"
     ]
    }
   ],
   "source": [
    "def calculate_f_distribution_mean_and_variance(df1, df2):\n",
    "    \"\"\"\n",
    "    Calculate the mean and variance of an F-distribution.\n",
    "\n",
    "    Parameters:\n",
    "    df1 (int): Degrees of freedom for the numerator.\n",
    "    df2 (int): Degrees of freedom for the denominator.\n",
    "\n",
    "    Returns:\n",
    "    mean (float): Mean of the F-distribution.\n",
    "    variance (float): Variance of the F-distribution.\n",
    "    \"\"\"\n",
    "\n",
    "    if df1 <= 0 or df2 <= 0:\n",
    "        raise ValueError(\"Degrees of freedom must be greater than 0.\")\n",
    "\n",
    "    if df2 <= 2:\n",
    "        raise ValueError(\"Degrees of freedom for the denominator must be greater than 2.\")\n",
    "\n",
    "    mean = df2 / (df2 - 2)\n",
    "    variance = (2 * df2**2 * (df1 + df2 - 2)) / (df1 * (df2 - 2)**2 * (df2 - 4))\n",
    "\n",
    "    return mean, variance\n",
    "\n",
    "# Example usage:\n",
    "df1 = 5\n",
    "df2 = 10\n",
    "mean, variance = calculate_f_distribution_mean_and_variance(df1, df2)\n",
    "print(\"Mean of F-distribution:\", mean)\n",
    "print(\"Variance of F-distribution:\", variance)\n"
   ]
  },
  {
   "cell_type": "markdown",
   "id": "666f5c68-2342-48f6-b271-910d98a3efbc",
   "metadata": {},
   "source": [
    "This function takes the degrees of freedom for the numerator (df1) and the denominator (df2) as input and returns the mean and variance of the F-distribution as a tuple. It also includes error handling to ensure that the input degrees of freedom are valid."
   ]
  },
  {
   "cell_type": "markdown",
   "id": "dcd58900-a31a-4622-b1f4-16c716a574f8",
   "metadata": {},
   "source": [
    "Q7. A random sample of 10 measurements is taken from a normal population with unknown variance. The sample variance is found to be 25. Another random sample of 15 measurements is taken from another normal population with unknown variance, and the sample variance is found to be 20. Conduct an F-test\n",
    "at the 10% significance level to determine if the variances are significantly different."
   ]
  },
  {
   "cell_type": "markdown",
   "id": "3b8384f3-06f1-41d4-bf36-b31461b954ce",
   "metadata": {},
   "source": [
    "Ans - To conduct an F-test to determine if the variances of two populations are significantly different at the 10% significance level, you can follow these steps:\n",
    "\n",
    "1. Define the null hypothesis (H0) and the alternative hypothesis (H1):\n",
    "\n",
    "   - Null Hypothesis (H0): The variances of the two populations are equal.\n",
    "   - Alternative Hypothesis (H1): The variances of the two populations are significantly different.\n",
    "\n",
    "2. Choose a significance level (alpha) for the test. In this case, alpha is 0.10 (10%).\n",
    "\n",
    "3. Calculate the F-statistic using the formula:\n",
    "\n",
    "   F = (Sample Variance 1) / (Sample Variance 2)\n",
    "\n",
    "4. Determine the degrees of freedom for both samples. For the first sample with a sample size of 10, the degrees of freedom for the numerator (Sample Variance 1) is 9, and for the second sample with a sample size of 15, the degrees of freedom for the denominator (Sample Variance 2) is 14.\n",
    "\n",
    "5. Use the F-distribution table or a statistical calculator to find the critical F-values for a two-tailed test at the 10% significance level with degrees of freedom (df1 = 9, df2 = 14).\n",
    "\n",
    "6. Compare the calculated F-statistic to the critical F-values:\n",
    "\n",
    "   - If F-statistic is outside the range of critical F-values, reject the null hypothesis (H0) in favor of the alternative hypothesis (H1), indicating that the variances are significantly different.\n",
    "   - If F-statistic is within the range of critical F-values, fail to reject the null hypothesis (H0), indicating that there is no significant difference in variances.\n",
    "\n",
    "Here's a Python code snippet to perform the F-test:\n"
   ]
  },
  {
   "cell_type": "code",
   "execution_count": 8,
   "id": "6ce899c7-6746-4f04-b5b0-9656394af1cf",
   "metadata": {},
   "outputs": [
    {
     "name": "stdout",
     "output_type": "stream",
     "text": [
      "Fail to reject the null hypothesis: There is no significant difference in variances.\n"
     ]
    }
   ],
   "source": [
    "from scipy import stats\n",
    "\n",
    "# Sample variances\n",
    "sample_variance1 = 25\n",
    "sample_variance2 = 20\n",
    "\n",
    "# Sample sizes\n",
    "n1 = 10\n",
    "n2 = 15\n",
    "\n",
    "# Calculate the F-statistic\n",
    "f_statistic = sample_variance1 / sample_variance2\n",
    "\n",
    "# Degrees of freedom\n",
    "df1 = n1 - 1\n",
    "df2 = n2 - 1\n",
    "\n",
    "# Significance level\n",
    "alpha = 0.10\n",
    "\n",
    "# Calculate the critical F-values for a two-tailed test at alpha/2\n",
    "critical_f_value_lower = stats.f.ppf(alpha / 2, df1, df2)\n",
    "critical_f_value_upper = stats.f.ppf(1 - alpha / 2, df1, df2)\n",
    "\n",
    "# Compare the F-statistic to the critical values\n",
    "if f_statistic < critical_f_value_lower or f_statistic > critical_f_value_upper:\n",
    "    print(\"Reject the null hypothesis: The variances are significantly different.\")\n",
    "else:\n",
    "    print(\"Fail to reject the null hypothesis: There is no significant difference in variances.\")\n"
   ]
  },
  {
   "cell_type": "markdown",
   "id": "1b4569cb-0c72-47c9-b95f-42d17398348a",
   "metadata": {},
   "source": [
    "This code calculates the F-statistic, finds the critical F-values, and makes a decision regarding the null hypothesis. In this specific case, the output will indicate whether the variances of the two populations are significantly different at the 10% significance level."
   ]
  },
  {
   "cell_type": "markdown",
   "id": "53dadb4e-194b-4db9-9449-e35aab083994",
   "metadata": {},
   "source": [
    "Q8. The following data represent the waiting times in minutes at two different restaurants on a Saturday night: Restaurant A: 24, 25, 28, 23, 22, 20, 27; Restaurant B: 31, 33, 35, 30, 32, 36. Conduct an F-test at the 5% significance level to determine if the variances are significantly different."
   ]
  },
  {
   "cell_type": "markdown",
   "id": "c3de7fce-d04d-4c2c-ad59-189d6bfbdb6f",
   "metadata": {},
   "source": [
    "Ans - To conduct an F-test to determine if the variances of waiting times at two different restaurants (Restaurant A and Restaurant B) are significantly different at the 5% significance level, you can follow these steps:\n",
    "\n",
    "1. Define the null hypothesis (H0) and the alternative hypothesis (H1):\n",
    "\n",
    "   - Null Hypothesis (H0): The variances of waiting times at both restaurants are equal.\n",
    "   - Alternative Hypothesis (H1): The variances of waiting times at both restaurants are significantly different.\n",
    "\n",
    "2. Choose a significance level (alpha) for the test. In this case, alpha is 0.05 (5%).\n",
    "\n",
    "3. Calculate the F-statistic using the formula:\n",
    "\n",
    "   F = (Variance of Restaurant A) / (Variance of Restaurant B)\n",
    "\n",
    "4. Determine the degrees of freedom for both samples. For Restaurant A with a sample size of 7, the degrees of freedom for the numerator (Variance of Restaurant A) is 6, and for Restaurant B with a sample size of 6, the degrees of freedom for the denominator (Variance of Restaurant B) is 5.\n",
    "\n",
    "5. Use the F-distribution table or a statistical calculator to find the critical F-values for a two-tailed test at the 5% significance level with degrees of freedom (df1 = 6, df2 = 5).\n",
    "\n",
    "6. Compare the calculated F-statistic to the critical F-values:\n",
    "\n",
    "   - If F-statistic is outside the range of critical F-values, reject the null hypothesis (H0) in favor of the alternative hypothesis (H1), indicating that the variances are significantly different.\n",
    "   - If F-statistic is within the range of critical F-values, fail to reject the null hypothesis (H0), indicating that there is no significant difference in variances.\n",
    "\n",
    "Here's a Python code snippet to perform the F-test:\n"
   ]
  },
  {
   "cell_type": "code",
   "execution_count": 9,
   "id": "4ca21187-4ca2-4c50-8d7a-4ade78e4310f",
   "metadata": {},
   "outputs": [
    {
     "name": "stdout",
     "output_type": "stream",
     "text": [
      "Fail to reject the null hypothesis: There is no significant difference in variances.\n"
     ]
    }
   ],
   "source": [
    "import numpy as np\n",
    "from scipy import stats\n",
    "\n",
    "# Waiting times data for Restaurant A and Restaurant B\n",
    "waiting_times_a = np.array([24, 25, 28, 23, 22, 20, 27])\n",
    "waiting_times_b = np.array([31, 33, 35, 30, 32, 36])\n",
    "\n",
    "# Calculate the variances\n",
    "variance_a = np.var(waiting_times_a, ddof=1)  # ddof=1 for unbiased estimate\n",
    "variance_b = np.var(waiting_times_b, ddof=1)\n",
    "\n",
    "# Calculate the F-statistic\n",
    "f_statistic = variance_a / variance_b\n",
    "\n",
    "# Degrees of freedom\n",
    "df1 = len(waiting_times_a) - 1\n",
    "df2 = len(waiting_times_b) - 1\n",
    "\n",
    "# Significance level\n",
    "alpha = 0.05\n",
    "\n",
    "# Calculate the critical F-values for a two-tailed test at alpha/2\n",
    "critical_f_value_lower = stats.f.ppf(alpha / 2, df1, df2)\n",
    "critical_f_value_upper = stats.f.ppf(1 - alpha / 2, df1, df2)\n",
    "\n",
    "# Compare the F-statistic to the critical values\n",
    "if f_statistic < critical_f_value_lower or f_statistic > critical_f_value_upper:\n",
    "    print(\"Reject the null hypothesis: The variances are significantly different.\")\n",
    "else:\n",
    "    print(\"Fail to reject the null hypothesis: There is no significant difference in variances.\")\n"
   ]
  },
  {
   "cell_type": "markdown",
   "id": "f5b53c67-e6aa-4caa-a717-bb7d22265bbd",
   "metadata": {},
   "source": [
    "This code calculates the F-statistic, finds the critical F-values, and makes a decision regarding the null hypothesis. In this specific case, the output will indicate whether the variances of waiting times at the two restaurants are significantly different at the 5% significance level."
   ]
  },
  {
   "cell_type": "markdown",
   "id": "a93592b9-23c1-40ee-93aa-8a4f94ba3bc4",
   "metadata": {},
   "source": [
    "Q9. The following data represent the test scores of two groups of students: Group A: 80, 85, 90, 92, 87, 83;\n",
    "Group B: 75, 78, 82, 79, 81, 84. Conduct an F-test at the 1% significance level to determine if the variances\n",
    "are significantly different."
   ]
  },
  {
   "cell_type": "markdown",
   "id": "df501649-695e-43e0-a061-5b3c759e82c9",
   "metadata": {},
   "source": [
    "Ans - To conduct an F-test to determine if the variances of test scores in Group A and Group B are significantly different at the 1% significance level, you can follow these steps:\n",
    "\n",
    "1. Define the null hypothesis (H0) and the alternative hypothesis (H1):\n",
    "\n",
    "   - Null Hypothesis (H0): The variances of test scores in both groups are equal.\n",
    "   - Alternative Hypothesis (H1): The variances of test scores in both groups are significantly different.\n",
    "\n",
    "2. Choose a significance level (alpha) for the test. In this case, alpha is 0.01 (1%).\n",
    "\n",
    "3. Calculate the F-statistic using the formula:\n",
    "\n",
    "   F = (Variance of Group A) / (Variance of Group B)\n",
    "\n",
    "4. Determine the degrees of freedom for both samples. For Group A with a sample size of 6, the degrees of freedom for the numerator (Variance of Group A) is 5, and for Group B with a sample size of 6, the degrees of freedom for the denominator (Variance of Group B) is 5.\n",
    "\n",
    "5. Use the F-distribution table or a statistical calculator to find the critical F-values for a two-tailed test at the 1% significance level with degrees of freedom (df1 = 5, df2 = 5).\n",
    "\n",
    "6. Compare the calculated F-statistic to the critical F-values:\n",
    "\n",
    "   - If F-statistic is outside the range of critical F-values, reject the null hypothesis (H0) in favor of the alternative hypothesis (H1), indicating that the variances are significantly different.\n",
    "   - If F-statistic is within the range of critical F-values, fail to reject the null hypothesis (H0), indicating that there is no significant difference in variances.\n",
    "\n",
    "Here's a Python code snippet to perform the F-test:\n",
    "\n"
   ]
  },
  {
   "cell_type": "code",
   "execution_count": 10,
   "id": "f8c3d99d-d13b-4693-9dcb-4e1afe0c6b04",
   "metadata": {},
   "outputs": [
    {
     "name": "stdout",
     "output_type": "stream",
     "text": [
      "Fail to reject the null hypothesis: There is no significant difference in variances.\n"
     ]
    }
   ],
   "source": [
    "import numpy as np\n",
    "from scipy import stats\n",
    "\n",
    "# Test scores data for Group A and Group B\n",
    "scores_group_a = np.array([80, 85, 90, 92, 87, 83])\n",
    "scores_group_b = np.array([75, 78, 82, 79, 81, 84])\n",
    "\n",
    "# Calculate the variances\n",
    "variance_group_a = np.var(scores_group_a, ddof=1)  # ddof=1 for unbiased estimate\n",
    "variance_group_b = np.var(scores_group_b, ddof=1)\n",
    "\n",
    "# Calculate the F-statistic\n",
    "f_statistic = variance_group_a / variance_group_b\n",
    "\n",
    "# Degrees of freedom\n",
    "df1 = len(scores_group_a) - 1\n",
    "df2 = len(scores_group_b) - 1\n",
    "\n",
    "# Significance level\n",
    "alpha = 0.01\n",
    "\n",
    "# Calculate the critical F-values for a two-tailed test at alpha/2\n",
    "critical_f_value_lower = stats.f.ppf(alpha / 2, df1, df2)\n",
    "critical_f_value_upper = stats.f.ppf(1 - alpha / 2, df1, df2)\n",
    "\n",
    "# Compare the F-statistic to the critical values\n",
    "if f_statistic < critical_f_value_lower or f_statistic > critical_f_value_upper:\n",
    "    print(\"Reject the null hypothesis: The variances are significantly different.\")\n",
    "else:\n",
    "    print(\"Fail to reject the null hypothesis: There is no significant difference in variances.\")\n"
   ]
  },
  {
   "cell_type": "markdown",
   "id": "f2e7b25f-5faf-4744-899c-ef8f123cea1d",
   "metadata": {},
   "source": [
    "This code calculates the F-statistic, finds the critical F-values, and makes a decision regarding the null hypothesis. In this specific case, the output will indicate whether the variances of test scores in the two groups are significantly different at the 1% significance level.\n",
    "\n",
    "\n",
    "\n",
    "\n"
   ]
  },
  {
   "cell_type": "code",
   "execution_count": null,
   "id": "803fe911-61cc-485b-b5f6-75895d478f60",
   "metadata": {},
   "outputs": [],
   "source": []
  },
  {
   "cell_type": "code",
   "execution_count": null,
   "id": "c232f5d5-2db3-486a-9c78-770178361f78",
   "metadata": {},
   "outputs": [],
   "source": []
  },
  {
   "cell_type": "code",
   "execution_count": 11,
   "id": "a994e5c4-62d3-4a11-8940-32b775138ded",
   "metadata": {},
   "outputs": [
    {
     "ename": "SyntaxError",
     "evalue": "invalid syntax (1933637684.py, line 1)",
     "output_type": "error",
     "traceback": [
      "\u001b[0;36m  Cell \u001b[0;32mIn[11], line 1\u001b[0;36m\u001b[0m\n\u001b[0;31m    .\u001b[0m\n\u001b[0m    ^\u001b[0m\n\u001b[0;31mSyntaxError\u001b[0m\u001b[0;31m:\u001b[0m invalid syntax\n"
     ]
    }
   ],
   "source": [
    "."
   ]
  },
  {
   "cell_type": "code",
   "execution_count": null,
   "id": "e874722a-05ea-45a5-a536-a82bf5b4e848",
   "metadata": {},
   "outputs": [],
   "source": []
  }
 ],
 "metadata": {
  "kernelspec": {
   "display_name": "Python 3 (ipykernel)",
   "language": "python",
   "name": "python3"
  },
  "language_info": {
   "codemirror_mode": {
    "name": "ipython",
    "version": 3
   },
   "file_extension": ".py",
   "mimetype": "text/x-python",
   "name": "python",
   "nbconvert_exporter": "python",
   "pygments_lexer": "ipython3",
   "version": "3.10.8"
  }
 },
 "nbformat": 4,
 "nbformat_minor": 5
}
